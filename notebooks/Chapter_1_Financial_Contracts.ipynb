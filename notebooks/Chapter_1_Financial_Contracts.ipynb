{
 "cells": [
  {
   "cell_type": "markdown",
   "id": "c1cb68a6",
   "metadata": {},
   "source": [
    "1.\tUnderstand Option Payoffs: Visualize payoffs for Long Call, Short Call, Long Put, Short Put.\n",
    "2.\tBuild Interactive Plots: Use matplotlib and ipywidgets to manipulate strike prices and expirations.\n",
    "3.\tInclude Commentary: Explain the logic and strategy behind each position."
   ]
  },
  {
   "cell_type": "code",
   "execution_count": null,
   "id": "931df40a",
   "metadata": {},
   "outputs": [],
   "source": []
  }
 ],
 "metadata": {
  "kernelspec": {
   "display_name": "Python 3 (ipykernel)",
   "language": "python",
   "name": "python3"
  },
  "language_info": {
   "codemirror_mode": {
    "name": "ipython",
    "version": 3
   },
   "file_extension": ".py",
   "mimetype": "text/x-python",
   "name": "python",
   "nbconvert_exporter": "python",
   "pygments_lexer": "ipython3",
   "version": "3.11.4"
  }
 },
 "nbformat": 4,
 "nbformat_minor": 5
}
