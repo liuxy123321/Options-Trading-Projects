{
 "cells": [
  {
   "cell_type": "markdown",
   "id": "30b4eb52",
   "metadata": {},
   "source": [
    "# Chapter 2: Forward Pricing\n",
    "This notebook explores the concepts and code implementations related to forward pricing, arbitrage, and the mechanics of different asset classes such as commodities, stocks, bonds, and FX."
   ]
  },
  {
   "cell_type": "markdown",
   "id": "a7071893",
   "metadata": {},
   "source": [
    "# **Table of Contents**  \n",
    "1. [Forward Pricing Calculator](#forward-pricing-calculator)  \n",
    "2. [Convenience Yield Imputer(Commodities)](#convenience-yield-imputer)  \n",
    "3. [Arbitrage Evaluator(Cash & Reverse Cash-and-Carry)](#arbitrage-evaluator)  "
   ]
  },
  {
   "cell_type": "markdown",
   "id": "c960ccf8",
   "metadata": {},
   "source": [
    "# <a id='forward-pricing-calculator'></a>  1. Forward Pricing Calculator\n",
    "The theoretical **forward price** represents the expected future price of an asset, adjusted for the **cost of carry** (interest, storage, insurance) and **benefits** like dividends or coupon payments. Different asset classes use slightly different formulas."
   ]
  },
  {
   "cell_type": "code",
   "execution_count": 2,
   "id": "b84df033",
   "metadata": {},
   "outputs": [],
   "source": [
    "# Forward Pricing Calculator\n",
    "def calculate_forward_price(asset_type, spot_price, r, t, **kwargs):\n",
    "    \"\"\"\n",
    "    Parameters:\n",
    "    - asset_type: \"commodity\", \"stock\", \"bond\", \"fx\"\n",
    "    - spot_price: current market price\n",
    "    - r: risk-free interest rate (annualized)\n",
    "    - t: time to maturity in years\n",
    "    - kwargs: asset-specific costs/benefits (e.g., dividends, storage cost, etc.)\n",
    "\n",
    "    Returns:\n",
    "    - theoretical forward price\n",
    "    \"\"\"\n",
    "    if asset_type == \"commodity\":\n",
    "        storage_cost = kwargs.get(\"storage_cost\",0)\n",
    "        insurance_cost = kwargs.get(\"insurance_cost\",0)\n",
    "        return spot_price * (1 + r * t) + (storage_cost + insurance_cost) * t\n",
    "    \n",
    "    elif asset_type == \"stock\":\n",
    "        dividends = kwargs.get(\"dividends\",0)\n",
    "        return spot_price * (1 + r * t) - dividends\n",
    "    \n",
    "    elif asset_type == \"bond\":\n",
    "        coupons = kwargs.get(\"coupons\", 0)\n",
    "        interest_on_coupons = kwargs.get(\"interest_on_coupons\", 0)\n",
    "        return spot_price * (1 + r * t) - (coupons + interest_on_coupons)\n",
    "    \n",
    "    elif asset_type == \"fx\":\n",
    "        foreign_rate = kwargs.get(\"foreign_rate\", 0)\n",
    "        return spot_price * ((1 + r * t) / (1 + foreign_rate * t))\n",
    "    \n",
    "    else:\n",
    "        raise ValueError(\"Unsupported asset type\")"
   ]
  },
  {
   "cell_type": "markdown",
   "id": "3b0c9116",
   "metadata": {},
   "source": [
    "### **Example Usage**"
   ]
  },
  {
   "cell_type": "code",
   "execution_count": 3,
   "id": "a9bf2c1a",
   "metadata": {},
   "outputs": [
    {
     "data": {
      "text/plain": [
       "100.49999999999999"
      ]
     },
     "execution_count": 3,
     "metadata": {},
     "output_type": "execute_result"
    }
   ],
   "source": [
    "# Example: Forward price of a stock with dividend of $2\n",
    "calculate_forward_price(\"stock\", spot_price=100, r=0.05, t=0.5, dividends=2)"
   ]
  },
  {
   "cell_type": "markdown",
   "id": "9dea767a",
   "metadata": {},
   "source": [
    "# <a id='convenience-yield-imputer'></a>  2. Convenience Yield Imputer (Commodities)\n",
    "The **convenience yield** represents the non-monetary benefit of holding a physical commodity (like availability or liquidity). It is inferred by comparing the actual spot price with the infered one."
   ]
  },
  {
   "cell_type": "code",
   "execution_count": 13,
   "id": "709d38f0",
   "metadata": {},
   "outputs": [],
   "source": [
    "# Infers implied convenience yield from observed market forward price\n",
    "def infer_convenience_yield(market_forward, spot_price, r, t, storage_cost=0, insurance_cost=0):\n",
    "    \"\"\"\n",
    "    Parameters:\n",
    "    - market_forward: observed market forward price\n",
    "    - spot_price: current market price\n",
    "    - r: interest rate\n",
    "    - t: time to maturity (in years)\n",
    "    - storage_cost: per unit annual storage cost\n",
    "    - insurance_cost: per unit annual insurance cost\n",
    "\n",
    "    Returns:\n",
    "    - estimated convenience yield\n",
    "    \"\"\"\n",
    "    infered_spot_price = (market_forward - (storage_cost + insurance_cost) * t)/(1 + r * t)\n",
    "    convenience_yield = spot_price - infered_spot_price\n",
    "    return round(convenience_yield, 4)"
   ]
  },
  {
   "cell_type": "markdown",
   "id": "818f0d09",
   "metadata": {},
   "source": [
    "### **Example Usage**"
   ]
  },
  {
   "cell_type": "code",
   "execution_count": 14,
   "id": "cb4d91e9",
   "metadata": {},
   "outputs": [
    {
     "data": {
      "text/plain": [
       "1.25"
      ]
     },
     "execution_count": 14,
     "metadata": {},
     "output_type": "execute_result"
    }
   ],
   "source": [
    "# Example Usage:\n",
    "infer_convenience_yield(\n",
    "    market_forward=77.4,\n",
    "    spot_price=76.25,\n",
    "    r=0.08,\n",
    "    t=3/12,\n",
    "    storage_cost=3,\n",
    "    insurance_cost=0.6)"
   ]
  },
  {
   "cell_type": "markdown",
   "id": "ffe2efbd",
   "metadata": {},
   "source": [
    "# <a id='arbitrage-evaluator'></a>  3. Arbitrage Evaluator (Cash & Reverse Cash-and-Carry)\n",
    "This module detects potential arbitrage opportunities.\n",
    "- Cash-and-Carry involves **buying** the **spot** asset and **selling** a forward contract.\n",
    "\n",
    "- Reverse Cash-and-Carry involves **shorting** the spot and **buying** a forward.\n",
    "\n",
    "The key is comparing market forward prices with theoretical values under funding or short borrowing rates."
   ]
  },
  {
   "cell_type": "code",
   "execution_count": 13,
   "id": "eeaa0000",
   "metadata": {},
   "outputs": [],
   "source": [
    "def arbitrage_evaluator(\n",
    "    spot_price,\n",
    "    futures_price,\n",
    "    interest_rate,\n",
    "    time,\n",
    "    expected_dividend=0.0,\n",
    "    short_rate=None\n",
    "):\n",
    "    \"\"\"\n",
    "    Evaluate arbitrage using cash-and-carry or reverse cash-and-carry logic.\n",
    "    Uses short rate in reverse arbitrage if provided.\n",
    "\n",
    "    Parameters:\n",
    "    - spot_price: Current spot price of the asset\n",
    "    - futures_price: Price of the futures contract\n",
    "    - interest_rate: Annual borrowing rate (decimal)\n",
    "    - time: Time to expiration (years)\n",
    "    - expected_dividend: expected dividend till maturity\n",
    "    - short_rate: Rebate rate for short sellers (decimal, default = None)\n",
    "    \"\"\"\n",
    "    fair_value_cash_carry = spot_price * (1 + interest_rate * time) - expected_dividend\n",
    "    if short_rate is not None:\n",
    "        fair_value_reverse = spot_price * (1 + short_rate * time) - expected_dividend\n",
    "    else:\n",
    "        fair_value_reverse = fair_value_cash_carry  # fallback\n",
    "\n",
    "    print(f\"Fair Value (Cash-and-Carry): {fair_value_cash_carry:.2f}\")\n",
    "    if short_rate is not None:\n",
    "        print(f\"Fair Value (Reverse Cash-and-Carry using short rate): {fair_value_reverse:.2f}\")\n",
    "    print(f\"Actual Futures Price: {futures_price:.2f}\\n\")\n",
    "\n",
    "    if futures_price > fair_value_cash_carry:\n",
    "        print(\"✅ Cash-and-Carry Arbitrage Opportunity:\")\n",
    "        print(\"Buy the spot asset and sell the overpriced futures.\")\n",
    "    elif futures_price < fair_value_reverse:\n",
    "        print(\"✅ Reverse Cash-and-Carry Arbitrage Opportunity:\")\n",
    "        print(\"Short the spot asset and buy the underpriced futures.\")\n",
    "    else:\n",
    "        print(\"✅ No arbitrage opportunity detected. Markets appear efficient.\")"
   ]
  },
  {
   "cell_type": "markdown",
   "id": "d43b9567",
   "metadata": {},
   "source": [
    "### **Example Usage**"
   ]
  },
  {
   "cell_type": "code",
   "execution_count": 14,
   "id": "8f9bc6f1",
   "metadata": {},
   "outputs": [
    {
     "name": "stdout",
     "output_type": "stream",
     "text": [
      "Fair Value (Cash-and-Carry): 69.02\n",
      "Fair Value (Reverse Cash-and-Carry using short rate): 68.13\n",
      "Actual Futures Price: 69.50\n",
      "\n",
      "✅ Cash-and-Carry Arbitrage Opportunity:\n",
      "Buy the spot asset and sell the overpriced futures.\n"
     ]
    }
   ],
   "source": [
    "# Example Usage:\n",
    "arbitrage_evaluator(\n",
    "    spot_price=67,\n",
    "    futures_price=69.5,\n",
    "    interest_rate=0.06,\n",
    "    short_rate=0.04,\n",
    "    expected_dividend=0.66,\n",
    "    time=8/12\n",
    ")"
   ]
  },
  {
   "cell_type": "code",
   "execution_count": null,
   "id": "6ed38a1e",
   "metadata": {},
   "outputs": [],
   "source": []
  }
 ],
 "metadata": {
  "kernelspec": {
   "display_name": "Python 3 (ipykernel)",
   "language": "python",
   "name": "python3"
  },
  "language_info": {
   "codemirror_mode": {
    "name": "ipython",
    "version": 3
   },
   "file_extension": ".py",
   "mimetype": "text/x-python",
   "name": "python",
   "nbconvert_exporter": "python",
   "pygments_lexer": "ipython3",
   "version": "3.11.4"
  }
 },
 "nbformat": 4,
 "nbformat_minor": 5
}
