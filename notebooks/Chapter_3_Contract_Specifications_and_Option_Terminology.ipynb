{
 "cells": [
  {
   "cell_type": "markdown",
   "id": "fad6b049",
   "metadata": {},
   "source": [
    "# Chapter 3: Contract Specifications and Option Terminology\n",
    "This notebook contains simulations and calculations related to options contract specifications and terminology. Two main coding applications are included:\n",
    "1. Exercise & Assignment Outcome Simulator\n",
    "2. Intrinsic vs Time Value Decomposer"
   ]
  },
  {
   "cell_type": "markdown",
   "id": "4f42a435",
   "metadata": {},
   "source": [
    "## 1. Exercise & Assignment Outcome Simulator\n",
    "\n",
    "This module simulates the real-world impact of exercising or being assigned an option based on the type of underlying asset and settlement method.\n"
   ]
  },
  {
   "cell_type": "code",
   "execution_count": 16,
   "id": "446e298f",
   "metadata": {},
   "outputs": [],
   "source": [
    "# Exercise & Assignment Outcome Simulator\n",
    "def simulate_option_outcome(option_type, underlying_type, exercise_or_assignment,\n",
    "                            spot_price, strike_price, contract_multiplier=100):\n",
    "    \"\"\"\n",
    "    Simulates the outcome of exercising or being assigned an option.\n",
    "    \n",
    "    Parameters:\n",
    "    - option_type: 'call' or 'put'\n",
    "    - underlying_type: 'stock', 'futures', or 'index'\n",
    "    - exercise_or_assignment: 'exercise' or 'assigned'\n",
    "    - spot_price: current market price of the underlying\n",
    "    - strike_price: option strike price\n",
    "    - contract_multiplier: units per contract (default 100)\n",
    "    \"\"\"\n",
    "    moneyness = \"ITM\" if ((option_type == \"call\" and spot_price > strike_price) or\n",
    "                          (option_type == \"put\" and strike_price > spot_price)) else \"OTM\"\n",
    "    \n",
    "    print(f\"Option is {moneyness}.\")\n",
    "    \n",
    "    if moneyness == 'OTM':\n",
    "        print(\"Option is out-of-the-money. It will not be exercised.\")\n",
    "        return\n",
    "    \n",
    "    if exercise_or_assignment == 'exercise':\n",
    "        if option_type == 'call':\n",
    "            print(f\"You exercise the call option and BUY at ${strike_price}, \"\n",
    "                  f\"while spot is ${spot_price}.\")\n",
    "        else:\n",
    "            print(f\"You exercise the put option and SELL at ${strike_price}, \"\n",
    "                  f\"while spot is ${spot_price}.\")\n",
    "    else:\n",
    "        if option_type == 'call':\n",
    "            print(f\"You are assigned on a call option and must SELL at ${strike_price}.\")\n",
    "        else:\n",
    "            print(f\"You are assigned on a put option and must BUY at ${strike_price}.\")\n",
    "\n",
    "    if underlying_type == 'stock':\n",
    "        settlement = \"Physical delivery of 100 shares.\"\n",
    "    elif underlying_type == 'futures':\n",
    "        settlement = \"Settlement via opening a futures position.\"\n",
    "    else:\n",
    "        cash_flow = abs(strike_price - spot_price) * contract_multiplier\n",
    "\n",
    "        if exercise_or_assignment == \"exercise\":\n",
    "            # Exerciser gains if ITM\n",
    "            settlement = f\"Cash settlement: Receive ${cash_flow:.2f}.\"\n",
    "        else:\n",
    "            # Assignee loses if ITM\n",
    "            settlement = f\"Cash settlement: Pay ${cash_flow:.2f}.\"\n",
    "\n",
    "    print(f\"Settlement type: {settlement}\")"
   ]
  },
  {
   "cell_type": "markdown",
   "id": "aa26cf6f",
   "metadata": {},
   "source": [
    "### Example 1: Call Option on Stock – In the Money, Exercised"
   ]
  },
  {
   "cell_type": "code",
   "execution_count": 11,
   "id": "2e653cec",
   "metadata": {},
   "outputs": [
    {
     "name": "stdout",
     "output_type": "stream",
     "text": [
      "Option is ITM.\n",
      "You exercise the call option and BUY at $100, while spot is $110.\n",
      "Settlement type: Physical delivery of 100 shares.\n"
     ]
    }
   ],
   "source": [
    "simulate_option_outcome(\n",
    "    option_type='call',\n",
    "    underlying_type='stock',\n",
    "    exercise_or_assignment='exercise',\n",
    "    spot_price=110,\n",
    "    strike_price=100)"
   ]
  },
  {
   "cell_type": "markdown",
   "id": "f1f5f1cf",
   "metadata": {},
   "source": [
    "### Example 2: Put Option on Index – In the Money, Assigned"
   ]
  },
  {
   "cell_type": "code",
   "execution_count": 23,
   "id": "19df441b",
   "metadata": {},
   "outputs": [
    {
     "name": "stdout",
     "output_type": "stream",
     "text": [
      "Option is ITM.\n",
      "You are assigned on a put option and must BUY at $100.\n",
      "Settlement type: Cash settlement: Pay $1000.00.\n"
     ]
    }
   ],
   "source": [
    "simulate_option_outcome(\n",
    "    option_type='put',\n",
    "    underlying_type='index',\n",
    "    exercise_or_assignment='assigned',\n",
    "    spot_price=90,\n",
    "    strike_price=100)"
   ]
  },
  {
   "cell_type": "markdown",
   "id": "b1ff48a2",
   "metadata": {},
   "source": [
    "### Example 3: Call Option on Futures – Out of the Money, Exercised"
   ]
  },
  {
   "cell_type": "code",
   "execution_count": 15,
   "id": "56620e0d",
   "metadata": {},
   "outputs": [
    {
     "name": "stdout",
     "output_type": "stream",
     "text": [
      "Option is OTM.\n",
      "Option is out-of-the-money. It will not be exercised.\n"
     ]
    }
   ],
   "source": [
    "simulate_option_outcome(\n",
    "    option_type='call',\n",
    "    underlying_type='futures',\n",
    "    exercise_or_assignment='exercise',\n",
    "    spot_price=90,\n",
    "    strike_price=100)"
   ]
  },
  {
   "cell_type": "markdown",
   "id": "19293766",
   "metadata": {},
   "source": [
    "### Explanation:\n",
    "- Helps understand what happens operationally when you either exercise an option (long holder) or are assigned (short writer).\n",
    "- Settlement is determined based on the underlying:\n",
    "  - **Stocks**: Physical delivery of shares\n",
    "  - **Futures**: Delivery of a futures contract\n",
    "  - **Index Options**: Cash settlement\n",
    "- Reinforces how moneyness affects decision-making (ITM/OTM).\n"
   ]
  },
  {
   "cell_type": "markdown",
   "id": "e9280462",
   "metadata": {},
   "source": [
    "## 2. Intrinsic vs. Time Value Decomposer\n",
    "This module helps decompose the total premium of an option into:\n",
    "- **Intrinsic Value**: The immediate value if exercised now\n",
    "- **Time Value**: The portion of the premium attributable to time, volatility, and other factors\n"
   ]
  },
  {
   "cell_type": "code",
   "execution_count": 33,
   "id": "34bbe490",
   "metadata": {},
   "outputs": [],
   "source": [
    "def decompose_option_value(option_type, spot_price, strike_price, premium):\n",
    "    \"\"\"\n",
    "    Decomposes the total premium of an option into intrinsic and time value.\n",
    "\n",
    "    Parameters:\n",
    "    - option_type: 'call' or 'put'\n",
    "    - spot_price: current market price\n",
    "    - strike_price: option strike price\n",
    "    - premium: observed option premium\n",
    "    \"\"\"\n",
    "    if option_type == 'call':\n",
    "        intrinsic_value = max(0, spot_price - strike_price)\n",
    "    else:\n",
    "        intrinsic_value = max(0, strike_price - spot_price)\n",
    "\n",
    "    time_value = premium - intrinsic_value\n",
    "\n",
    "    print(f\"Intrinsic Value: ${intrinsic_value:.2f}\")\n",
    "    print(f\"Time Value: ${time_value:.2f}\")\n",
    "    print(f\"Total Market Price: ${premium:.2f}\")"
   ]
  },
  {
   "cell_type": "code",
   "execution_count": 34,
   "id": "9ddc248a",
   "metadata": {},
   "outputs": [
    {
     "name": "stdout",
     "output_type": "stream",
     "text": [
      "Intrinsic Value: $5.00\n",
      "Time Value: $2.00\n",
      "Total Market Price: $7.00\n"
     ]
    }
   ],
   "source": [
    "# Example: Put option with spot = 95, strike = 100, premium = 7\n",
    "decompose_option_value(\n",
    "    option_type='put',\n",
    "    spot_price=95,\n",
    "    strike_price=100,\n",
    "    premium=7)"
   ]
  },
  {
   "cell_type": "markdown",
   "id": "df299dce",
   "metadata": {},
   "source": [
    "### Explanation:\n",
    "- Useful for understanding whether an option is priced at parity or contains time premium.\n",
    "- Can help traders identify potential overvaluation or undervaluation based on remaining time to expiry and market conditions."
   ]
  }
 ],
 "metadata": {
  "kernelspec": {
   "display_name": "Python 3 (ipykernel)",
   "language": "python",
   "name": "python3"
  },
  "language_info": {
   "codemirror_mode": {
    "name": "ipython",
    "version": 3
   },
   "file_extension": ".py",
   "mimetype": "text/x-python",
   "name": "python",
   "nbconvert_exporter": "python",
   "pygments_lexer": "ipython3",
   "version": "3.11.4"
  }
 },
 "nbformat": 4,
 "nbformat_minor": 5
}
